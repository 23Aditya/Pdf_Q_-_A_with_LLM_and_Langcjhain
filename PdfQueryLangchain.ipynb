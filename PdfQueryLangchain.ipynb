{
  "nbformat": 4,
  "nbformat_minor": 0,
  "metadata": {
    "colab": {
      "provenance": []
    },
    "kernelspec": {
      "name": "python3",
      "display_name": "Python 3"
    },
    "language_info": {
      "name": "python"
    }
  },
  "cells": [
    {
      "cell_type": "markdown",
      "source": [],
      "metadata": {
        "id": "fsS9n8RqdjEG"
      }
    },
    {
      "cell_type": "markdown",
      "source": [
        "## PDF Query Using Langchain"
      ],
      "metadata": {
        "id": "gBtk_tC8zmC1"
      }
    },
    {
      "cell_type": "code",
      "source": [
        "pip install -U langchain-community"
      ],
      "metadata": {
        "collapsed": true,
        "id": "IL8rEAeN5kg3",
        "outputId": "d241a4cd-e507-483a-d5fe-caa7063fca66",
        "colab": {
          "base_uri": "https://localhost:8080/"
        }
      },
      "execution_count": 44,
      "outputs": [
        {
          "output_type": "stream",
          "name": "stdout",
          "text": [
            "Requirement already satisfied: langchain-community in /usr/local/lib/python3.10/dist-packages (0.2.5)\n",
            "Requirement already satisfied: PyYAML>=5.3 in /usr/local/lib/python3.10/dist-packages (from langchain-community) (6.0.1)\n",
            "Requirement already satisfied: SQLAlchemy<3,>=1.4 in /usr/local/lib/python3.10/dist-packages (from langchain-community) (2.0.30)\n",
            "Requirement already satisfied: aiohttp<4.0.0,>=3.8.3 in /usr/local/lib/python3.10/dist-packages (from langchain-community) (3.9.5)\n",
            "Requirement already satisfied: dataclasses-json<0.7,>=0.5.7 in /usr/local/lib/python3.10/dist-packages (from langchain-community) (0.6.7)\n",
            "Requirement already satisfied: langchain<0.3.0,>=0.2.5 in /usr/local/lib/python3.10/dist-packages (from langchain-community) (0.2.5)\n",
            "Requirement already satisfied: langchain-core<0.3.0,>=0.2.7 in /usr/local/lib/python3.10/dist-packages (from langchain-community) (0.2.8)\n",
            "Requirement already satisfied: langsmith<0.2.0,>=0.1.0 in /usr/local/lib/python3.10/dist-packages (from langchain-community) (0.1.79)\n",
            "Requirement already satisfied: numpy<2,>=1 in /usr/local/lib/python3.10/dist-packages (from langchain-community) (1.25.2)\n",
            "Requirement already satisfied: requests<3,>=2 in /usr/local/lib/python3.10/dist-packages (from langchain-community) (2.31.0)\n",
            "Requirement already satisfied: tenacity<9.0.0,>=8.1.0 in /usr/local/lib/python3.10/dist-packages (from langchain-community) (8.3.0)\n",
            "Requirement already satisfied: aiosignal>=1.1.2 in /usr/local/lib/python3.10/dist-packages (from aiohttp<4.0.0,>=3.8.3->langchain-community) (1.3.1)\n",
            "Requirement already satisfied: attrs>=17.3.0 in /usr/local/lib/python3.10/dist-packages (from aiohttp<4.0.0,>=3.8.3->langchain-community) (23.2.0)\n",
            "Requirement already satisfied: frozenlist>=1.1.1 in /usr/local/lib/python3.10/dist-packages (from aiohttp<4.0.0,>=3.8.3->langchain-community) (1.4.1)\n",
            "Requirement already satisfied: multidict<7.0,>=4.5 in /usr/local/lib/python3.10/dist-packages (from aiohttp<4.0.0,>=3.8.3->langchain-community) (6.0.5)\n",
            "Requirement already satisfied: yarl<2.0,>=1.0 in /usr/local/lib/python3.10/dist-packages (from aiohttp<4.0.0,>=3.8.3->langchain-community) (1.9.4)\n",
            "Requirement already satisfied: async-timeout<5.0,>=4.0 in /usr/local/lib/python3.10/dist-packages (from aiohttp<4.0.0,>=3.8.3->langchain-community) (4.0.3)\n",
            "Requirement already satisfied: marshmallow<4.0.0,>=3.18.0 in /usr/local/lib/python3.10/dist-packages (from dataclasses-json<0.7,>=0.5.7->langchain-community) (3.21.3)\n",
            "Requirement already satisfied: typing-inspect<1,>=0.4.0 in /usr/local/lib/python3.10/dist-packages (from dataclasses-json<0.7,>=0.5.7->langchain-community) (0.9.0)\n",
            "Requirement already satisfied: langchain-text-splitters<0.3.0,>=0.2.0 in /usr/local/lib/python3.10/dist-packages (from langchain<0.3.0,>=0.2.5->langchain-community) (0.2.1)\n",
            "Requirement already satisfied: pydantic<3,>=1 in /usr/local/lib/python3.10/dist-packages (from langchain<0.3.0,>=0.2.5->langchain-community) (2.7.3)\n",
            "Requirement already satisfied: jsonpatch<2.0,>=1.33 in /usr/local/lib/python3.10/dist-packages (from langchain-core<0.3.0,>=0.2.7->langchain-community) (1.33)\n",
            "Requirement already satisfied: packaging<25,>=23.2 in /usr/local/lib/python3.10/dist-packages (from langchain-core<0.3.0,>=0.2.7->langchain-community) (24.1)\n",
            "Requirement already satisfied: orjson<4.0.0,>=3.9.14 in /usr/local/lib/python3.10/dist-packages (from langsmith<0.2.0,>=0.1.0->langchain-community) (3.10.5)\n",
            "Requirement already satisfied: charset-normalizer<4,>=2 in /usr/local/lib/python3.10/dist-packages (from requests<3,>=2->langchain-community) (3.3.2)\n",
            "Requirement already satisfied: idna<4,>=2.5 in /usr/local/lib/python3.10/dist-packages (from requests<3,>=2->langchain-community) (3.7)\n",
            "Requirement already satisfied: urllib3<3,>=1.21.1 in /usr/local/lib/python3.10/dist-packages (from requests<3,>=2->langchain-community) (2.0.7)\n",
            "Requirement already satisfied: certifi>=2017.4.17 in /usr/local/lib/python3.10/dist-packages (from requests<3,>=2->langchain-community) (2024.6.2)\n",
            "Requirement already satisfied: typing-extensions>=4.6.0 in /usr/local/lib/python3.10/dist-packages (from SQLAlchemy<3,>=1.4->langchain-community) (4.12.2)\n",
            "Requirement already satisfied: greenlet!=0.4.17 in /usr/local/lib/python3.10/dist-packages (from SQLAlchemy<3,>=1.4->langchain-community) (3.0.3)\n",
            "Requirement already satisfied: jsonpointer>=1.9 in /usr/local/lib/python3.10/dist-packages (from jsonpatch<2.0,>=1.33->langchain-core<0.3.0,>=0.2.7->langchain-community) (3.0.0)\n",
            "Requirement already satisfied: annotated-types>=0.4.0 in /usr/local/lib/python3.10/dist-packages (from pydantic<3,>=1->langchain<0.3.0,>=0.2.5->langchain-community) (0.7.0)\n",
            "Requirement already satisfied: pydantic-core==2.18.4 in /usr/local/lib/python3.10/dist-packages (from pydantic<3,>=1->langchain<0.3.0,>=0.2.5->langchain-community) (2.18.4)\n",
            "Requirement already satisfied: mypy-extensions>=0.3.0 in /usr/local/lib/python3.10/dist-packages (from typing-inspect<1,>=0.4.0->dataclasses-json<0.7,>=0.5.7->langchain-community) (1.0.0)\n"
          ]
        }
      ]
    },
    {
      "cell_type": "code",
      "execution_count": 45,
      "metadata": {
        "colab": {
          "base_uri": "https://localhost:8080/"
        },
        "id": "5rdAYZepFhJM",
        "outputId": "6c1d2aaf-79e0-414f-eb27-e6512fbf7d04",
        "collapsed": true
      },
      "outputs": [
        {
          "output_type": "stream",
          "name": "stdout",
          "text": [
            "Requirement already satisfied: langchain in /usr/local/lib/python3.10/dist-packages (0.2.5)\n",
            "Requirement already satisfied: PyYAML>=5.3 in /usr/local/lib/python3.10/dist-packages (from langchain) (6.0.1)\n",
            "Requirement already satisfied: SQLAlchemy<3,>=1.4 in /usr/local/lib/python3.10/dist-packages (from langchain) (2.0.30)\n",
            "Requirement already satisfied: aiohttp<4.0.0,>=3.8.3 in /usr/local/lib/python3.10/dist-packages (from langchain) (3.9.5)\n",
            "Requirement already satisfied: async-timeout<5.0.0,>=4.0.0 in /usr/local/lib/python3.10/dist-packages (from langchain) (4.0.3)\n",
            "Requirement already satisfied: langchain-core<0.3.0,>=0.2.7 in /usr/local/lib/python3.10/dist-packages (from langchain) (0.2.8)\n",
            "Requirement already satisfied: langchain-text-splitters<0.3.0,>=0.2.0 in /usr/local/lib/python3.10/dist-packages (from langchain) (0.2.1)\n",
            "Requirement already satisfied: langsmith<0.2.0,>=0.1.17 in /usr/local/lib/python3.10/dist-packages (from langchain) (0.1.79)\n",
            "Requirement already satisfied: numpy<2,>=1 in /usr/local/lib/python3.10/dist-packages (from langchain) (1.25.2)\n",
            "Requirement already satisfied: pydantic<3,>=1 in /usr/local/lib/python3.10/dist-packages (from langchain) (2.7.3)\n",
            "Requirement already satisfied: requests<3,>=2 in /usr/local/lib/python3.10/dist-packages (from langchain) (2.31.0)\n",
            "Requirement already satisfied: tenacity<9.0.0,>=8.1.0 in /usr/local/lib/python3.10/dist-packages (from langchain) (8.3.0)\n",
            "Requirement already satisfied: aiosignal>=1.1.2 in /usr/local/lib/python3.10/dist-packages (from aiohttp<4.0.0,>=3.8.3->langchain) (1.3.1)\n",
            "Requirement already satisfied: attrs>=17.3.0 in /usr/local/lib/python3.10/dist-packages (from aiohttp<4.0.0,>=3.8.3->langchain) (23.2.0)\n",
            "Requirement already satisfied: frozenlist>=1.1.1 in /usr/local/lib/python3.10/dist-packages (from aiohttp<4.0.0,>=3.8.3->langchain) (1.4.1)\n",
            "Requirement already satisfied: multidict<7.0,>=4.5 in /usr/local/lib/python3.10/dist-packages (from aiohttp<4.0.0,>=3.8.3->langchain) (6.0.5)\n",
            "Requirement already satisfied: yarl<2.0,>=1.0 in /usr/local/lib/python3.10/dist-packages (from aiohttp<4.0.0,>=3.8.3->langchain) (1.9.4)\n",
            "Requirement already satisfied: jsonpatch<2.0,>=1.33 in /usr/local/lib/python3.10/dist-packages (from langchain-core<0.3.0,>=0.2.7->langchain) (1.33)\n",
            "Requirement already satisfied: packaging<25,>=23.2 in /usr/local/lib/python3.10/dist-packages (from langchain-core<0.3.0,>=0.2.7->langchain) (24.1)\n",
            "Requirement already satisfied: orjson<4.0.0,>=3.9.14 in /usr/local/lib/python3.10/dist-packages (from langsmith<0.2.0,>=0.1.17->langchain) (3.10.5)\n",
            "Requirement already satisfied: annotated-types>=0.4.0 in /usr/local/lib/python3.10/dist-packages (from pydantic<3,>=1->langchain) (0.7.0)\n",
            "Requirement already satisfied: pydantic-core==2.18.4 in /usr/local/lib/python3.10/dist-packages (from pydantic<3,>=1->langchain) (2.18.4)\n",
            "Requirement already satisfied: typing-extensions>=4.6.1 in /usr/local/lib/python3.10/dist-packages (from pydantic<3,>=1->langchain) (4.12.2)\n",
            "Requirement already satisfied: charset-normalizer<4,>=2 in /usr/local/lib/python3.10/dist-packages (from requests<3,>=2->langchain) (3.3.2)\n",
            "Requirement already satisfied: idna<4,>=2.5 in /usr/local/lib/python3.10/dist-packages (from requests<3,>=2->langchain) (3.7)\n",
            "Requirement already satisfied: urllib3<3,>=1.21.1 in /usr/local/lib/python3.10/dist-packages (from requests<3,>=2->langchain) (2.0.7)\n",
            "Requirement already satisfied: certifi>=2017.4.17 in /usr/local/lib/python3.10/dist-packages (from requests<3,>=2->langchain) (2024.6.2)\n",
            "Requirement already satisfied: greenlet!=0.4.17 in /usr/local/lib/python3.10/dist-packages (from SQLAlchemy<3,>=1.4->langchain) (3.0.3)\n",
            "Requirement already satisfied: jsonpointer>=1.9 in /usr/local/lib/python3.10/dist-packages (from jsonpatch<2.0,>=1.33->langchain-core<0.3.0,>=0.2.7->langchain) (3.0.0)\n",
            "Requirement already satisfied: openai in /usr/local/lib/python3.10/dist-packages (1.34.0)\n",
            "Requirement already satisfied: anyio<5,>=3.5.0 in /usr/local/lib/python3.10/dist-packages (from openai) (3.7.1)\n",
            "Requirement already satisfied: distro<2,>=1.7.0 in /usr/lib/python3/dist-packages (from openai) (1.7.0)\n",
            "Requirement already satisfied: httpx<1,>=0.23.0 in /usr/local/lib/python3.10/dist-packages (from openai) (0.27.0)\n",
            "Requirement already satisfied: pydantic<3,>=1.9.0 in /usr/local/lib/python3.10/dist-packages (from openai) (2.7.3)\n",
            "Requirement already satisfied: sniffio in /usr/local/lib/python3.10/dist-packages (from openai) (1.3.1)\n",
            "Requirement already satisfied: tqdm>4 in /usr/local/lib/python3.10/dist-packages (from openai) (4.66.4)\n",
            "Requirement already satisfied: typing-extensions<5,>=4.7 in /usr/local/lib/python3.10/dist-packages (from openai) (4.12.2)\n",
            "Requirement already satisfied: idna>=2.8 in /usr/local/lib/python3.10/dist-packages (from anyio<5,>=3.5.0->openai) (3.7)\n",
            "Requirement already satisfied: exceptiongroup in /usr/local/lib/python3.10/dist-packages (from anyio<5,>=3.5.0->openai) (1.2.1)\n",
            "Requirement already satisfied: certifi in /usr/local/lib/python3.10/dist-packages (from httpx<1,>=0.23.0->openai) (2024.6.2)\n",
            "Requirement already satisfied: httpcore==1.* in /usr/local/lib/python3.10/dist-packages (from httpx<1,>=0.23.0->openai) (1.0.5)\n",
            "Requirement already satisfied: h11<0.15,>=0.13 in /usr/local/lib/python3.10/dist-packages (from httpcore==1.*->httpx<1,>=0.23.0->openai) (0.14.0)\n",
            "Requirement already satisfied: annotated-types>=0.4.0 in /usr/local/lib/python3.10/dist-packages (from pydantic<3,>=1.9.0->openai) (0.7.0)\n",
            "Requirement already satisfied: pydantic-core==2.18.4 in /usr/local/lib/python3.10/dist-packages (from pydantic<3,>=1.9.0->openai) (2.18.4)\n",
            "Requirement already satisfied: PyPDF2 in /usr/local/lib/python3.10/dist-packages (3.0.1)\n",
            "Requirement already satisfied: faiss-cpu in /usr/local/lib/python3.10/dist-packages (1.8.0)\n",
            "Requirement already satisfied: numpy in /usr/local/lib/python3.10/dist-packages (from faiss-cpu) (1.25.2)\n",
            "Requirement already satisfied: tiktoken in /usr/local/lib/python3.10/dist-packages (0.7.0)\n",
            "Requirement already satisfied: regex>=2022.1.18 in /usr/local/lib/python3.10/dist-packages (from tiktoken) (2024.5.15)\n",
            "Requirement already satisfied: requests>=2.26.0 in /usr/local/lib/python3.10/dist-packages (from tiktoken) (2.31.0)\n",
            "Requirement already satisfied: charset-normalizer<4,>=2 in /usr/local/lib/python3.10/dist-packages (from requests>=2.26.0->tiktoken) (3.3.2)\n",
            "Requirement already satisfied: idna<4,>=2.5 in /usr/local/lib/python3.10/dist-packages (from requests>=2.26.0->tiktoken) (3.7)\n",
            "Requirement already satisfied: urllib3<3,>=1.21.1 in /usr/local/lib/python3.10/dist-packages (from requests>=2.26.0->tiktoken) (2.0.7)\n",
            "Requirement already satisfied: certifi>=2017.4.17 in /usr/local/lib/python3.10/dist-packages (from requests>=2.26.0->tiktoken) (2024.6.2)\n"
          ]
        }
      ],
      "source": [
        "!pip install langchain\n",
        "!pip install openai\n",
        "!pip install PyPDF2\n",
        "!pip install faiss-cpu\n",
        "!pip install tiktoken"
      ]
    },
    {
      "cell_type": "code",
      "source": [
        "from PyPDF2 import PdfReader\n",
        "from langchain.embeddings.openai import OpenAIEmbeddings\n",
        "from langchain.text_splitter import CharacterTextSplitter\n",
        "from langchain.vectorstores import FAISS"
      ],
      "metadata": {
        "id": "v8fCmC-6Q3pP"
      },
      "execution_count": 46,
      "outputs": []
    },
    {
      "cell_type": "markdown",
      "source": [],
      "metadata": {
        "id": "xP1-3VjZdlf4"
      }
    },
    {
      "cell_type": "code",
      "source": [
        "import os\n",
        "os.environ[\"OPENAI_API_KEY\"] = \"***************************************************\""
      ],
      "metadata": {
        "id": "_aQ7ps_dRJOq"
      },
      "execution_count": 47,
      "outputs": []
    },
    {
      "cell_type": "code",
      "source": [
        "# provide the path of  pdf file/files.\n",
        "pdfreader = PdfReader('/content/HR Manual Softweb.pdf')"
      ],
      "metadata": {
        "id": "_FA1ZERdRLAM"
      },
      "execution_count": 48,
      "outputs": []
    },
    {
      "cell_type": "code",
      "source": [
        "from typing_extensions import Concatenate\n",
        "# read text from pdf\n",
        "raw_text = ''\n",
        "for i, page in enumerate(pdfreader.pages):\n",
        "    content = page.extract_text()\n",
        "    if content:\n",
        "        raw_text += content"
      ],
      "metadata": {
        "id": "q9AeO9cDRqMj"
      },
      "execution_count": 49,
      "outputs": []
    },
    {
      "cell_type": "code",
      "source": [
        "raw_text"
      ],
      "metadata": {
        "colab": {
          "base_uri": "https://localhost:8080/",
          "height": 139
        },
        "id": "yGlxUMl-Rsmy",
        "outputId": "63557bfc-eada-4716-c2b6-2cc3e8ad8eb2"
      },
      "execution_count": 50,
      "outputs": [
        {
          "output_type": "execute_result",
          "data": {
            "text/plain": [
              "'HR M a n u a l           \\n  \\n        \\n \\nThis document  and its contents are  exclusive property of Priya Sof tweb Solutions P vt Ltd, hence should be treate d accordingly.  \\nPage 1 \\n  \\n \\n \\n \\n \\n \\n \\n \\n \\n \\n \\n \\nPriya Softweb Solutions  \\nHR Manual  \\n \\n \\n \\n \\n \\n \\n \\n \\n \\n \\n \\n \\n \\n \\n \\n \\n \\n HR M a n u a l           \\n  \\n        \\n \\nThis document  and its contents are  exclusive property of Priya Sof tweb Solutions P vt Ltd, hence should be treate d accordingly.  \\nPage 2 \\n  \\n \\nIndex  \\n \\n \\n1. Management Team  \\n2. Recruitment Policy  \\na. Referral Policy  \\nb. Timesheet      \\nc. Probation & Confirmation  \\n3. Attendance Policy  \\n4. Leave Policy  \\n5. Maternity  & Paternity Policy  \\n6. Insu rance  \\n7. Payroll \\n8. Performance  Appraisal Policy  \\n9. Ethics & Compliance Training  \\n10. Diversity, Equity  and Inclusion (DEI)  \\n11. Employee Agreement/Bond  \\n12. Travel & Reimbursement  \\n13. Sexual Harassment Policy (ICC)  \\n14.  Office Decorum  \\na. Dress code  \\nb. ID card  \\nc. Mobile Usage  \\nd. Employee Health & Wellness  \\ne. Parking  \\n15.  Internati onal Shipment  \\n16. Incident R eport  \\n17. Work from Home Policy  \\n18. Separation  Polic y \\n19. Gratuity Policy  \\n20.  Retirem ent details  \\n \\n \\n \\n \\n \\n \\n \\n \\n HR M a n u a l           \\n  \\n        \\n \\nThis document  and its contents are  exclusive property of Priya Sof tweb Solutions P vt Ltd, hence should be treate d accordingly.  \\nPage 3 \\n  \\n \\n \\n1.0 Management Team  \\n \\n \\n• Viral Hirpara  – President  \\n• Mukesh Vyas – Chairman  \\n• Hariomprakash Raval – Managing Director  \\n• Kaushal Gandhi – Vice Presiden t – Software Deve lopmen t  \\n• Hitesh  Patel  – Vice President - Sales and Marketing  \\n• Pragnesh Patel  – Associate Vice President – IoT Practice  \\n• Dinesh Padhiyar  – Associate Vice President – Microsoft Practice  \\n• Jay Parikh  - Associate Vice President – Software Engineering  \\n• Sanjay Dabhi  – Associat e Vice President – Java & QA Practices  \\n• Imran R Bhad elia - Product Owner - IoTConnec tTM \\n• Bhavesh Gohel  – Sr. Project Manager – Data    \\n• Shivpalsinh R. Jhala  – Sr. Project Manager  – Sharepoint  \\n• Hiten Saresa  – Project Manager  (Trending Tech)  \\n• Jitendra R Sananse  - Project Manager (Design)  \\n• Keyur Patel - IT Infrastructure Manager  \\n• Nancy Bhatt  – HR Manager  \\n• Khushali Shah – Manager - Talent Acquisition  \\n• Jayes h Vyas – Manager Accounts & Admin  \\n \\n \\n \\n \\n \\n \\n \\n \\n \\n \\n \\n \\n \\n \\n \\n \\n*******************************************  HR M a n u a l           \\n  \\n        \\n \\nThis document  and its contents are  exclusive property of Priya Sof tweb Solutions P vt Ltd, hence should be treate d accordingly.  \\nPage 4 \\n  \\n2.0 Recruitment Polic y        \\n \\nObjective:  Right man for the  right job.  The r ecruitment policy o f the c ompany always to c reate \\nright skill sets at an eco nomica l cost a nd time.  \\n \\nApplicability: Recruitment policy is applicable to all employees of Priya Softwe b.  \\n \\nProcess:  \\n \\nAll recruitments will be as per the compan y’s Manpower plan  and Budgets.  \\n \\nFor any fre sh recruitment in the company, it should be duly a pprove d and au thorized by \\nResource Manager.  \\n \\nSources of Recruitment :  \\n \\nInternal Sources - \\n \\n1. Promotions  \\nProm otion refers to upgr ading the cadre of the employees by ev aluating their \\nperformance in the organizat ion. It is the pro cess of shifting an employee fro m a lo wer \\nposition to a higher position with more responsibilities, remuneration, facilities, and \\nstatus.  \\n \\n2. Referral Policy - The purpose of this policy is to recogn ize and reward em ployee’s \\ncontribution in a ttracting new staf f to the organization.  \\n• A team me mber c an refer  an individual who fits our requirements for particular \\nvacancies to HR Department  (hr@soft websolutions.com) . In case the resume exists in \\nthe data b ank, that profile  won’t be considered and  for fresher profiles  the re ferral \\npolicy  is not applicable . \\n• The referre d cand idate will undergo  regular recruitment procedure .  \\n• If a referred candidate is s elected, referrer wi ll get 20% referral incentive  of the m onthly \\nsalary offered .  Referral incentive will be paid in 3 portions  i.e., 10% on joining of  \\ncandidate and 5% each  on c onfirmati on and com pletion of one year .  \\n• Referral policy is applicable to exis ting employees only.  \\n \\n \\n \\n \\n \\n HR M a n u a l           \\n  \\n        \\n \\nThis document  and its contents are  exclusive property of Priya Sof tweb Solutions P vt Ltd, hence should be treate d accordingly.  \\nPage 5 \\n  \\nExternal Sources - \\n \\n1. Job Portals  \\n2. Recruitment Consultancies  \\n3. Campus Hiring  \\n4. Social Networks  \\n5. Walk -Ins  \\n \\nShortlisting:  \\n \\nThe short listing of CV will be done by HR dep t in concu rrence with the concerned dept.  \\n \\nInterview:  \\n \\nInterviews of the short listed cand idates will be conducted by the concer ned Dept Head and HR. \\nIt is mandatory to fi ll the interview Evaluatio n sheet for all the interview s, since it makes  the \\ndecision -making  process s impler and it remains as a data sheet of the candidate  for future \\nreferenc es or for creating benchmarks.  \\n \\nDecis ion on compensation of the selected candida te will be as per the stan dard compensation \\ngrid of the  company based on  expe rience an d skill of  the candidate, a cross reference will be \\nmade to check the  parity with the exi sting staff.  \\n \\nIssuance  of Offer  Lette r: \\n \\nAn offer letter will be issued to the s elected candidate s by the HR dept.  \\n \\nIssuance of Appoint ment Letter:   \\n \\nAppoint ment lett er will be  issued to the candidate and n ecessary joining formalities are to be \\ncompleted on the day the candidate joins the com pany.  \\n \\nJoining Formalities:  \\n \\nOn the day of  joining, the candidate mu st complete all the necessary  formalities such  as; \\n- Company  Forms  \\n- PF Nomination form – If applicable  \\n- ESIC forms  – If applica ble \\n- Bank account O pening  – Company will open the salary bank account for all employees.    \\n(Note: In case  of difficul ties in  opening bank account because of any default or  prior relatio ns \\nwith re spective bank,  employee will be responsible for  resolving  the issues. ) HR M a n u a l           \\n  \\n        \\n \\nThis document  and its contents are  exclusive property of Priya Sof tweb Solutions P vt Ltd, hence should be treate d accordingly.  \\nPage 6 \\n -  Stati onery requisition  will be taken care b y Admin department.  \\n- E-mail ID and Base camp login will be created by  Network department.  \\n \\nEmploye e Induction:  \\n \\nTo famil iarize th e new empl oyee with the org anizational culture, values, process and  make \\nthem  comfortable  with the organization.  The HR Departm ent will take thro ugh the induction \\npresent ation and brief the new jo inee about the policies and p rocedure of the C ompan y. \\nHR wil l introduc e the new joinee s to concerned department and will be sent out an email about \\nthe joining of the new member.  \\n \\nTimeshe et: \\n \\nIt is mandatory for every employee to fill Jira timesheet for 8: 00 hours on regular basis.  \\n \\nEveryone is hereb y str ictly ins tructed to  follow below guideline to fill timesheet for Non - Project \\nRelated Tasks:  \\n \\n1. Rese arch & Development  \\n \\n• R&D for Estimation s (Mention Proposal tracking number in time sheet):   \\n \\no Efforts put for R&D to provide estimation  \\no Efforts to check fea sibility for a ny lead or  proposal or estimation.  \\n  \\n• Demo / Prototypes / Interview  for Prospect client / project (Mention Prospect \\nClient/Proje ct name timesheet):  \\n  \\no Create Demo / Prototy pes for prospect client / project.  \\no Efforts puts for pr eparation of clie nt in terview.  \\no Time spend  for giving interview to client.  \\n \\n• R&D when Idle:   \\no If no ta sk is assigned and t ime spent by self on learning new tech nology.  \\n \\n2. Softweb Internal Process  \\n  \\n• Estimat ions/Proposals (Mention Pr oposal tracking number in tim esheet):   \\no Time sp ent f or provid ing estima tions and making proposals.  \\n• Interviews:  Time spent on taki ng interviews.  \\n• Inter nal meetings: Time spent attending int ernal project meetings.  \\n• Trainings: Time spe nt on attending or conduct ing trainings.  HR M a n u a l           \\n  \\n        \\n \\nThis document  and its contents are  exclusive property of Priya Sof tweb Solutions P vt Ltd, hence should be treate d accordingly.  \\nPage 7 \\n • Internal Proce ss Activities: Ti me sp ent for a ny interna l Softweb process improvement   \\n       implementation  \\n \\n3. Other  Activities:  \\n  \\n• Compa ny Events & Celebration:  Time spent o n attending any company events or \\ncelebrati ons. \\n• Network/Internet/Powe r/ PC Issue:  Not able to work due to network/PC or  power \\nissues.  \\n• PTO/Day Of f (Leaves):  On account of full/half leave or early l eaving.  \\n \\n \\n \\nProbation  and Confirmation : \\n \\n1. Employees will be on probation for 6 months.  \\n2. After the compl etion of 6 months, HR depa rtment will share evaluation form w ith the \\nconcerne d Depar tmental Head and b ased on their reviews, an employee will be \\nconfirmed,  or probation period  can be extended.  \\n3. Employee s will be n otified about their confirmation or proba tion extension  after the \\ncom pletion of 6 months.  \\n \\n \\n \\n \\n \\n \\n \\n \\n \\n \\n \\n \\n \\n \\n \\n \\n \\n*************************************** ****  \\n \\n \\n HR M a n u a l           \\n  \\n        \\n \\nThis document  and its contents are  exclusive property of Priya Sof tweb Solutions P vt Ltd, hence should be treate d accordingly.  \\nPage 8 \\n 3.0 Attendance P olicy                               \\n \\nObjectiv e: To regulate attendance, for punctualit y in attending office and to proces s salary at \\nthe end of the mont h.  \\n \\nAppli cability:  Applicable to all employees of Priya S oftweb   \\n \\nProcess:  \\n \\n• Official offi ce timing is 10:30 AM to 7 :30 PM – Monday to Friday . \\n• Produc tion hours on floors will be 8: 00 hours. Payroll system  is integrat ed with Bio \\nmetric system, approved WFH requests, and applied leaves and hence salary calculation \\n& attendance will be considered  accordingly . \\n• Empl oyees are requested to co me at allocated  time assigned  by their respective l eads. \\n \\na. For Development team, general ti mings wi ll be 10 :30 AM - 07:30 PM  \\nb. In Marketing team, general timi ngs for BD will be 01:0 0 PM - 10:0 0 PM or \\n03:00 PM– 12:00 AM and BA/ SEO, it will be 11:00 AM  – 8:00 PM. \\nc. For Content / DRE/MarCom Team, g eneral timings w ill be 10:30 AM – \\n07:30 PM \\nd. Depending on  requ irement, work timings can be changed by HOD.  \\n• Minimum 4 production floor hours without break will be required for half day; less than \\n4 hours w ill be  considered a s absence.  \\n \\na. To avai l 1st half lea ve, employee has t o resu me office by 2 :30 PM \\nmaximum. (No bre ak hours thereafter)  \\nb. To avail 2nd half leave, employee can leave at 3 :30 PM. (Without break \\nhours)  \\nc. Friday early leaving  permissible with approv al of Leads.  \\n• During  Day light saving work timing  may be changed to hav e mee ting with clients.  \\n• In the event of employe e reaching l ate to office because of any reas on is  always \\nadvisable to inform the Team Lead and  HR (hr@softwebsolutions.com)  well in advance \\nto avoid any conf usion later.  \\n• Salary will be calculated purely on basis o f number of days attended.  \\n• In order t o determine attendance , the tripod entry, approved WFH re quests and \\napplied leave s will be considered. If neither are identif ied, then leave will be considered . \\n• In case of any clarif ication, HR Dept.  (hr@softwebsolutions. com)  may be contact ed. \\n \\n \\n******* ****** ************************* *****  HR M a n u a l           \\n  \\n        \\n \\nThis document  and its contents are  exclusive property of Priya Sof tweb Solutions P vt Ltd, hence should be treate d accordingly.  \\nPage 9 \\n 4.0 Leave Policy  \\n \\n \\nObjective:  To allow an emplo yee to take leave in ca se of any exigencies or sickness and f or long \\nfamily re unio n. \\n \\nApplicability:  To all employees of Priya So ftweb on fi nancial year basis i. e., Apr – Mar.  \\n \\nCompleted Month Definitio n: Min imum 20 days presence in a month is termed as c ompleted \\nmonth. Only co mpleted month is counted towards L eave  credit, confirma tion & salary revision .  \\nNew employees joining on o r before 10th of any mon th will b e consider ed as completed month. \\nNew empl oyees joining after 10th then that month will not be considered as completed  month.  \\n \\nLeave Credit Eligibility:   Employees will be l eave  credit as per below  format on beginning of the \\nfinancial  year i.e . April - Mar.   (Subject  to pr esence required  for compl eted  month)  \\n \\n Leave Type  Apr May  Jun Jul Aug Sept  Oct Nov Dec Jan Feb Mar  \\nSL -5 1 1 1 1 1 0 0 0 0 0 0 0 \\nCL-5 0 0 0 1 1 1 1 1 0 0 0 0 \\nPL-10 0 0 0 0 0 1 2 2 2 1 1 1 \\n                          \\nTOTAL  1 1 1 2 2 2 3 3 2 1 1 1 \\n \\n \\n \\n \\n \\n \\n \\n \\n \\n \\n \\n \\n \\n \\n \\n \\n \\n HR M a n u a l           \\n  \\n        \\n \\nThis document  and its contents are  exclusive property of Priya Sof tweb Solutions P vt Ltd, hence should be treate d accordingly.  \\nPage 10 \\n  \\n \\nLeave Matri x \\n \\nSr. No Elements  CL– Casual Leave  SL – Sick Leave  PL–Privilege Leave  \\n1 Entitlement  5 days in a year  \\n 5 days in a year  \\n 10 days i n a year  \\n2 Meaning / \\nDefinition  For casual purpo se Taken whi le you are \\nsick or unw ell Long l eave for family \\nvacation  \\n3 Availing criteria  Any time during the year  Any time du ring the \\nyear  Any time  during the \\nyear  \\n5 Application \\nProces s For planned lea ve, \\napplication shall be  made \\nin OMS at least 10 d ays \\nprior. I n case of any \\nemergenc y or unpla nned \\nleave, ap plication shall b e \\nmade in OMS after \\nresuming office without \\nfail. Leave application \\nshall be  made in OMS \\nafter resuming the \\noffice . If such leaves \\nare more than 3  then \\nmed ical certificate is \\nmandat e. Leave app licat ion shall \\nbe made  15 days p rior \\ngoing on leave.  \\n \\n6 Leave sanctioning \\n& Approving \\nauthority  Leader/ Manager  Leader/ Manager  Leader/ Ma nager  \\n \\n7 Carry Forward  Cannot be car ried forward, \\nbalance  leave will get \\nlapsed at the end of the \\nyear i.e. in Marc h Cannot be carried \\nforward, bal ance \\nleave will get lapsed \\nat the end of the year \\ni.e. in March  Maximum 6 PL from \\nbalance will be carried \\nforward to next \\nfinancial year and \\ncarried forward PLs w ill \\nbe added in  \\nAccumula ted leaves \\n(AL). Rest Unut ilized \\nbalan ce will get lapsed \\nat the end of  finan cial \\nyear ie. in March  \\n8 Encas hment  \\n No Encas hment  No Encashment  No Encashme nt \\n \\n  \\nAccumulated leav es: Maximum 6 leave balance will get carried forward . Carried forward PLs \\nwill be added in  Accumulated le aves (AL) . AL will be carried  forw ard every year  till maximum \\nbalance of 30 in to tal. If AL exceeds more than 30 leaves, then ex ceeded leave balance wi ll be \\nlapsed  at the end of  every  finan cial year . Employ ees cannot use their AL balance during the \\nnotice period and o nce relived from compa ny their A L bala nce will get lapse.  \\n HR M a n u a l           \\n  \\n        \\n \\nThis document  and its contents are  exclusive property of Priya Sof tweb Solutions P vt Ltd, hence should be treate d accordingly.  \\nPage 11 \\n Comp ensato ry Off :  Employees working on any non -working d ay for minimum 4 hours  in office \\nwill be eligible for one compe nsatory off, subjec t to manager\\'s appro val.  Empl oyees  who are \\nworking f or less than  4 hours  on such day in office wi ll not be eligi ble for co mpe nsatory off . \\n  \\nProc ess: HR (hr@softwebsolutions.com) / Accounts  (psaccount s@softwebsolutions.com) / \\nNetwork dept . (network @softwebso lutions.com)  shall b e informed wel l in advance through \\nOMS  regarding such attendance in office.    \\n \\nEligibility & Validity:  All employees are eligible for compensatory off.  Earned comp  off will be \\nvalid f or 90 days . Unutilized Comp off will get lapsed afte r 90 days.  \\n \\nProcess:  \\n \\n• Leave applic ation to be made in OMS.   \\n \\n• Leave adminis tration and calculatio n shall be as per financial  year (Apr – Mar)  \\n \\n• New leaves will be credited to individuals’ account on 1st Apr il every y ear. \\n \\n• Leave records wi ll be maintained by HR/ Adminis tration d ept. \\n \\n• Full and  final settlement of Emp loyees leaving i n middle of year  will be done strictly on  \\nleave e ligibility table  i.e. availed  v/s eligible.  \\n \\nBereavement leaves (BL ):  \\n \\n• Three  Bereavement l eaves will be given to an employee on the event of de ath of \\nemployee’s immed iate family member (whic h includes Grand Parents, Parents, \\nSiblings, Spouse, Childr en) \\n• This type of leaves can be applied by email to you r reporting manager and HR \\nDepa rtment (hr@softwebsolutions.com)  \\n \\n \\n \\n \\n \\n \\n \\n \\n \\n************ ********* *********** ***********  HR M a n u a l           \\n  \\n        \\n \\nThis document  and its contents are  exclusive property of Priya Sof tweb Solutions P vt Ltd, hence should be treate d accordingly.  \\nPage 12 \\n  \\n5.0 Maternity Policy  \\n \\nObjective:  To provide Maternity benefit to Female employees of Priya Softweb.  \\n \\nApplicabi lity: Applicable to all female employees at Priya Soft web:  \\n \\nMaternity Policy  \\n• Female empl oyee is suppos ed to in form HR department (hr@softwebsolutions.com)  \\nregarding h er pregna ncy and give regular up dates on i t. \\n• Female employee will be allowed to work till she wants during her pregn ancy before \\ndelivery  AT HER RISK;  company will not be responsible for any unce rtainty.    \\n• Three m onths paid  leave will be granted to female e mplo yee up to 2 kids , paid  leave  will \\nbe considered from the day female employee goes on leave for delivery.    \\n• Femal e employee will be an employee of company till she res umes duties post -deliver y, \\nincas e if she i s not able  to resume, on receipt of her advi ce her em ployment will be void.  \\n• Incase if female employee don’t want to resume office after 3 months then she is \\nsupposed to inform HR department  (hr@softwebsolutions.com) . \\n \\nPaternity Policy  \\n \\nObjective : To provide Pater nity leave  benefit  to ma le emplo yees of Priya Softweb.  \\n \\nApplic ability:  Applica ble to all male employees at Priya Softweb:  \\n \\nPaternity  \\n \\n• Five Paternity leaves will be provided up to  2 kids.  \\n• Paternity leaves should be availed within 1 m onth o f child birth.  \\n• Unutilized p aternity  will be lapse d after 1 month of child birth .   \\n• This type of  leaves can be a pplied by email to your reporting manager \\nand HR Department  (hr@softwebsolutions.com) . \\n \\nGift to new parents : \\n \\n• Employee will be gift voucher of I NR 3500 for child  birth up to 2 kids  \\n****** ********** ***** ********* ******** ***** HR M a n u a l           \\n  \\n        \\n \\nThis document  and its contents are  exclusive property of Priya Sof tweb Solutions P vt Ltd, hence should be treate d accordingly.  \\nPage 13 \\n  \\n \\n6.0 Insuranc e \\n \\n    Objective:  To meet the unpredictabl e medical needs of employees . \\n  \\n    Applicability:  Applicable to all employees at Pr iya Softweb . \\n  \\n  Policy:  Group Med ical Insurance of s um assured 3  Lakh s is prov ided to al l Priya Softweb \\n  empl oyees only  through  external i nsurance  provider. Benefit of m edical   \\n                           Insurance can  be availed during Priya Softweb’s tenure only.  \\n  \\n \\nLife Insurance : \\n  \\n Objective:  To secure  financial needs of family me mber of d eceased e mploye e of Priya  \\n Softweb Solutions. \\n  \\n Applica bility:  Applicable t o confirmed  employees at Priya Softweb  \\n \\n Policy:   \\n• Natural, accidental, and homicidal fatalities are all considered . \\n• 24 mo nths’ salary will be  provided to nominee of deceased \\nemplo yee. \\n• Family member of dece ased employee  have to  submit the  death \\ncertificate with in one month  of death . \\n   \\n \\n \\n \\n \\n \\n \\n \\n \\n \\n \\n*******************************************  HR M a n u a l           \\n  \\n        \\n \\nThis document  and its contents are  exclusive property of Priya Sof tweb Solutions P vt Ltd, hence should be treate d accordingly.  \\nPage 14 \\n  \\n7.0 Pay roll  \\n \\n• Salary wi ll be cred ited on 5th of every m onth.  \\n• Salary slips will be provided on  1st week of each month.  \\n• For any issues /concerns in salary  meeting with accounts will be held on 8th \\nday of each month.  \\n• For any issues in TDS/ESIC/ PT/ PF meeting wi th acc ounts  will be he ld on 15th \\nor 30th day of each m onth.  \\n• Investments a nd Declarations nee d to be submitted on or before 25th of each \\nmonth through OMS.  \\n• Any employee who wants to apply for  meal vouchers need to submit request \\non or before 25th of each mo nth th rough  OMS.  \\n• If an y employee  who joined  in last we ek of any month his /her salary will be  \\ncredited in next month only when the s alaried account is opened.  \\n• Salary will be credited on the b asis on attended days  \\n• In case of separation salary wi ll be credite d on t he ba sis of last  month \\nattended days.  \\n• In case of  missing tripod ent ries while working at office,  employee need to \\napply in OM S on or before end of the working d ay of  each month.  \\n• Bonus depends on Company\\'s business which  will be distributed during the \\ntime of Diwali  (Employee s who are under the notice pe riod will not be \\neligible for the same ). \\n \\n \\n \\n \\n \\n \\n \\n \\n \\n \\n \\n \\n \\n \\n \\n \\n******************** ******************* ****  \\n \\n HR M a n u a l           \\n  \\n        \\n \\nThis document  and its contents are  exclusive property of Priya Sof tweb Solutions P vt Ltd, hence should be treate d accordingly.  \\nPage 15 \\n 8.0 Pe rformance  Appraisal Policy  \\n \\nObjective:  To provide annual incr ement to  all employ ees &  promotions  to the de serving \\nemp loyees on the basis of the in dividual performance in a logical,  transparent and fair manner.  \\n \\nApplicabilit y: Applicable to on ly conf irmed employees  of Priya Softweb Solutions Pvt . Ltd.  \\n \\nSalary revisio n: Perfo rmance base d sa lary revisio n will be done once in year i.e . in February  \\nonly.  \\n \\nAppraisal Process : Performance A ppra isal is solely based on performance eva luation of \\nemployee . Evalu ation score wi ll be complied TL/PM and final rating will be given to team \\nmember. Deta iled recommendat ion will b e given by  TL/PM and a ccordingly incremen t, or \\npromotion will be done.  \\n \\n \\n \\n \\n \\n \\n \\n \\n \\n \\n \\n \\n \\n \\n \\n \\n \\n \\n \\n \\n \\n \\n************************* ******************  \\n HR M a n u a l           \\n  \\n        \\n \\nThis document  and its contents are  exclusive property of Priya Sof tweb Solutions P vt Ltd, hence should be treate d accordingly.  \\nPage 16 \\n  \\n9.0 Ethics & Compliance Training  \\n \\nObjective:  To provide training on ethics and compliance policy  of the company . \\n \\nAppl icability : Applicable  to all employees o f Priya Softweb Solutions Pvt. Ltd . \\n \\nProcess : \\n \\nFor New Joine rs- \\n \\n• New joiners  have to go through the ethics and compliance t raining on quarter ly basis  \\n    which includes  four courses - Code of Conduct, Privacy & Security, Export Complianc e   \\n    and Anti -corruption . \\n• HR will  send detailed  email notif ication to  new joine rs regarding  the training .  \\n• Employees have to complete training through their  Workday  account  within the 45 days   \\n    after receiving the notification of account activation a nd password  of Work day.   \\n• New joiners have to inform HR , once they co mplete the training program.  \\n \\nFor Existing  Employees - \\n \\n• Existing  Employees  have to complete the refresher program of ethics and compliance \\ntraining  after every  2 years.  \\n• HR will  send detaile d email notif icatio n to employees  regarding  the training .  \\n• Employees have to complete training through their  Workday  account  within the 45 days \\nafter receiving the notification of account activation and password  of Workday.   \\n• Employees  have to inform HR , once they co mplete th e training program.  \\n \\n \\n \\n \\n \\n \\n \\n \\n \\n \\n \\n \\n****** ***************** **************** ****  \\n HR M a n u a l           \\n  \\n        \\n \\nThis document  and its contents are  exclusive property of Priya Sof tweb Solutions P vt Ltd, hence should be treate d accordingly.  \\nPage 17 \\n 10.0 Diversity, Equity and Inclusion  (DEI)  \\n \\nObjective:  To establish an environment where a diverse workforce is valued and respected, \\nequal opportu nities are cr eated, and employee s experience a sense of belonging.  \\n \\nAppl icability : Applicable to all employee s of Priya Softweb Solutions Pvt. Ltd . \\n \\nDetails : \\n \\n• Company provides  equal opportunity to employ ees. We have  employees with varying \\ncharacteristics, such as diffe rent sex, gender, r ace, ethnicity, sexual orientation.  \\n• Company  focus es on hiring from  different race, ethnicity, religion,  political beliefs,  \\neducation and socio -economic  background, geographical diversity, language,  and \\nculture .  \\n• Aim: - \\no To recruit from di verse talent pools across the country   \\no Encourage our diverse employees to refer their connection s \\no Develop an employer b rand that showcases our diversity  \\n• Company provides benefit  (Insurance, Pa id leaves, Gratuity , Bonus etc.) to every \\nemployee  which  depicts  equality and creat es sense of  belongingness  towards the \\norganization . \\n• Comp any organizes employe e engagement  activities  and training s which makes  our \\nwork culture more diverse, equitable  and inclusive . \\n  \\n \\n \\n \\n \\n \\n \\n \\n \\n \\n \\n \\n \\n \\n \\n****** ***************** *************** *****  \\n HR M a n u a l           \\n  \\n        \\n \\nThis document  and its contents are  exclusive property of Priya Sof tweb Solutions P vt Ltd, hence should be treate d accordingly.  \\nPage 18 \\n 11.0 Employee Agreement /Bond  \\n \\nObjective:  To prevent the talent  from leaving  the organization.  \\n \\nAppl icability : Applicable to all employee s of Priya Softweb Solutions Pvt. Ltd . \\n \\nDetails : \\n \\n• Company will do employee agreement  or bond based on below c ircumstances -  \\n \\nCategories  Bond Period  Comments  \\nRetention  15 months  Retaining the right talent \\nafter resignation based on  \\nthe requirement  \\nFreshers  18 months  0 to 1 year of exper ience  \\nRejoining  15 months  Rehire the e x-employee  \\n \\n• HR will prepare the agreemen t and get it signed by  the employee and by the authorized  \\nsignatory of the organization . \\n• HR will require  photocopy of ID proo f and  passp ort size photo graph  from the employee  \\nto notarize the  agreement . \\n \\n \\n \\n \\n \\n \\n \\n \\n \\n \\n \\n \\n \\n \\n \\n \\n \\n \\n****** ***************** ************** ******  HR M a n u a l           \\n  \\n        \\n \\nThis document  and its contents are  exclusive property of Priya Sof tweb Solutions P vt Ltd, hence should be treate d accordingly.  \\nPage 19 \\n  \\n12.0 Travel &  Reimb ursement  Policy   \\n \\nObjective:  To provide guidelines when an em ploye e who travels for comp any.  \\n \\nAppl icability : Applicable to all employees of Priya Softweb Solutions Pvt. Ltd  \\n \\nProcess:  Travel reques t should be notified to HR (hr@s oftwebsolutions. com)  & Accounts De pt. \\n(psaccount s@softwebsolutions.com)  by Dept. Head v ia ema il. \\n \\nReimbursement will b e done as per below policy:  \\n \\nParticulars  Reimbursement  \\nTrain fare  3rd AC t rain fare of yours will be rei mbursed and not for y our family.  If the \\nemployee  wants to travel by  air then the difference amount w ill be paid b y \\nempl oyee  \\nHotel S tay Reimbursement for two nights max. Up to Rs. 8000/ - depends on Visa \\nInterview  \\nLocal Conv eyance Up to Rs. 2500/ -  \\nFood e xpenses  Breakfast up to Rs. 250/ - per day.  \\nLunch  & Dinner up to Rs.  500/ - each per day  \\n* Receipts/b ills/invoices  are mandato ry for visa fees, Train t ickets, Hotel stay, Food expen ses. E xpenses would not \\nbe reimbursed in ab sence of t he receip ts \\n \\n \\nEmployees  stretching late  (attending more  than 11 hours)  in evening on weekd ays can order \\ndinner, reimburseme nt up to 250/- will be do ne.  It should be  appro ved by Department head.  \\n \\n \\n \\n \\n \\n \\n \\n \\n \\n \\n*********************** **************** ****  \\n HR M a n u a l           \\n  \\n        \\n \\nThis document  and its contents are  exclusive property of Priya Sof tweb Solutions P vt Ltd, hence should be treate d accordingly.  \\nPage 20 \\n  \\n13.0 Sexual Harassment Polic y (ICC)  \\n \\nObject ive: To provide p rotection agains t sexual hara ssment of women at workplace and for the \\npreve ntion and redressa l of complaints of such matters.  \\n \\nApplicability : Appl icable to all employees  of Priya Softwe b Solution s Pvt. Ltd. \\n \\n \\nINTERNAL COMPLA INTS COMMITTEE  \\n \\nThis committee h as been formed a t Priya Softw eb Solutions Pvt. Ltd under  THE S EXUA L HARASSM ENT \\nOF WOMEN AT WO RKPL ACE (PREVENTION , PROHIBITION AND REDRESSAL) A CT, 2013  \\n \\nNames  Dept.  Detai ls Floor  \\nNancy Bhatt  HR Department  Committee Head  Grou nd F loor \\nKhush ali Shah  HR Depar tment  Committee Member  Ground  Floor \\nSulakshana Iyer  Content W riter Departm ent Committee Memb er First floor \\nVicky Vaswani  HR Department  Commi ttee Memb er Ground F loor \\nDhara J oshi HR Department  Commit tee Me mber  Ground F loor \\n \\n \\n \\n \\n \\n \\n \\n \\n \\n \\n \\n \\n \\n \\n \\n**************** **************** ***********  \\n HR M a n u a l           \\n  \\n        \\n \\nThis document  and its contents are  exclusive property of Priya Sof tweb Solutions P vt Ltd, hence should be treate d accordingly.  \\nPage 21 \\n  \\n14.0 Office Decorum  \\n \\nDress Code : \\n \\nAppropriate at tire is required  for a ll em ployees  to project a professional ima ge while at  work.  \\nAll clothing mus t be consistent with the s tandar ds for a profess ional environme nt and not \\nattra ct undue attentio n or serve as a distraction to others. Employe es are also per mitted to \\nwear s emi-informa l cloth ing.  \\n \\nBelow is a general over view of acc eptable attire.  \\n \\nApprop riate Attire Inc ludes:  \\nMale Emp loyees:  \\nAllowed:  \\n1. Formal Trouser s and Shirts  \\n2. Jeans and T -shirt wi th Collar only  \\n3. Formal & Sports Shoes & Sandals  & Scholl with socks  \\nNot Allowe d: \\n1. Round ne ck T sh irts \\n2. Low Waist Jeans  \\n3. T shirts with funny slogans  \\n4. Slippers ( stric tly not allowed)  \\n5. Funky acc essori es \\nLong hairs & t hick beard is n ot allowed.  Eve ryone is supposed  to have clean  shave and well \\ncombed hair.  \\n \\nFemale employees:  \\nAllowed:  \\n1. Formal  Trous ers / jeans and Shirts  \\n2. Sarees  \\n3. Formals Skir ts \\n4. T-shirt  with collar only  \\n5. Chudid ars & Kurtis, Sa lwar Suits  \\n \\n \\n \\n HR M a n u a l           \\n  \\n        \\n \\nThis document  and its contents are  exclusive property of Priya Sof tweb Solutions P vt Ltd, hence should be treate d accordingly.  \\nPage 22 \\n  \\nNot Allowed:  \\n1. Roun d neck, deep ne ck, cold shoulde r and fancy T -shirt \\n2. Low waist Jeans & Short T shirt &  Short Sh irts \\n3. Transparen t wear.  \\n4. Wear wi th dee p cut sleeve s \\n5. Capris  \\n6. Slippers ( Strictly n ot allowe d) \\n7. Visible Tatoos & Pie rcing  \\nID card : \\n• All the employees  have  to wear ID  Cards during off ice hours . Repea ted/habitual fail ure \\nto wear ID  card  will attract the penalty o n each occasion  and HRD has au thority  to \\nrecover  such penalty.  \\n• Each employee is  responsi ble for safe keeping an d preserving hi s/her ID C ard as i t is. \\n• Exchange of ID Cards or Pro xy Usage is not allowed and will be viewed very  seriously.  \\n• Network  Dept . will issue Temporary ID  Cards as a st op-gap arrangement for a  fixed \\ntemporary  period ti ll a pro per ID card is prepared  and issued.  \\n• Request of i ssuing n ew ID cards for b roken/lost ID c ards will be acc epted  by Receptio n & \\nnetwor k department.  \\n• If existing  ID card is lost,  then employee  is accoun table to pay the penalty  of Rs. 100/ - \\nfor a new  ID card.  \\n \\n Mobile Usage:  \\n• Organizatio n has allowe d employees to keep th eir cell ph ones with them whi le on duty, \\nso that i n case of any emergency they can atten d impor tant calls.  \\n• Excessive usage  of cell pho nes and attending long calls in office premises are strictly \\nrestricted . \\n• Extreme usage of personal mobile devices may cau se strict a ctions against an employee.  \\n \\nEmployee H ealth & We llness:  \\n \\nTobac co/ Gutka Chew ing: \\n• Chewing Gutka  or Tobacco or gum or smoking  in offi ce premises is strictly prohibited .  \\n• Anyone found getting such substances insid e will be fa cing penalties and harsh decision s \\nby management.  \\n \\nFood on desk  - Impor tant \\n• Carry ing any  food m aterial ( e.g. wafer s, snacks, fr uits) on desk  is not allowed.  Terrace  \\ndining facility  can be used anytime to have lunch, snacks & dinner . \\n HR M a n u a l           \\n  \\n        \\n \\nThis document  and its contents are  exclusive property of Priya Sof tweb Solutions P vt Ltd, hence should be treate d accordingly.  \\nPage 23 \\n  \\n \\n \\nCleanl iness:  \\n• Emplo yees are responsible f or maintain ing the workspace assigned to t hem.  \\n• A clean, ord erly workspace  provides an e nvironm ent conduci ve to working efficiently.  \\n• Employees  should keep in mind that their workspace is part of a professional \\nenvironment  that portra ys the Company’s overa ll dedicati on to providing qu ality service  \\nto its clients.  \\n• Therefore, you r workspace sh ould be  clean, org anized and free of items that  are not  \\nrequired to perform your job.  \\n• Do not Spit Gutka/Gum/Tobacco in washrooms.  \\n \\nParking:  \\n• Emplo yees can use our alloc ated baseme nt parking facilit y to park the ir two -wheelers or  \\nfour -wheelers .  \\n• It is stric tly ins tructed to everyone not to park their ve hicle on  the ground floo r i.e. \\naround lawn/main premise . This space is strictly for Dir ectors only.  \\n• Everyone should use p arking unde r our wings (5 & 6 ) only. Other  parking  space has  been \\nprovided  to other diff erent w ings. \\n• No on e is suppose d to park two-whe eler in car parking zone though space is available . \\nTwo -wheeler should be parked in spa ce allotted in basement on main stan d. (Don\\'t park \\non side stan d.) \\n• Everyone should par k their vehicle in com mon space only. This is on  first c ome first \\nbasis.  \\n• Company is  not res ponsible to give you parking facility. Park your vehicle s at your own \\nrisk. \\n \\n \\n \\n \\n \\n \\n \\n \\n \\n \\n \\n \\n************************** *********** ******  HR M a n u a l           \\n  \\n        \\n \\nThis document  and its contents are  exclusive property of Priya Sof tweb Solutions P vt Ltd, hence should be treate d accordingly.  \\nPage 24 \\n  \\n \\n15.0 Int ernational Shipment  \\n \\n• Authoriza tion letter fr om client is require d on their c ompany `s letter head for cus tom \\nclear ance . \\n• Letter  should include keywords like \"Not for commercial purpose\" to avo id duty  charg es \\nby custom office.  \\n• All such ship ment should have b elow contac t details:  \\nTo,  \\nKeyu r Patel  \\nPriya Softweb Soluti ons Pv t. Ltd \\n5 & 6  \"Garden View Corporate Hous e\" \\nPakwan  Cross Road, Nr. Armieda Spa House  \\nSindhu Bhavan Road  \\nOpp.  Bodakdev Auda Gard en \\nBodakdev, Ahmedabad - 380059  \\nPH: 9825700082.  079-40373760  \\n \\n• Contact HR department  (hr@softwebs olutions.com)  to collect the format of \\nAuthorization l etter  and inform K eyur Patel regarding such sh ipments.  \\n \\n \\n \\n \\n \\n \\n \\n \\n \\n \\n \\n \\n \\n \\n \\n \\n \\n \\n HR M a n u a l           \\n  \\n        \\n \\nThis document  and its contents are  exclusive property of Priya Sof tweb Solutions P vt Ltd, hence should be treate d accordingly.  \\nPage 25 \\n *******************************************  \\n \\n16.0 Incident Report :  \\n \\nObjective : To register major incident s whi ch occur  at the company  premises . \\nApplicability:  All employees  & Infrastructure  of Priya Softw eb Sol utions Pvt. Ltd.  are covered .  \\nDetails :  \\n \\n• Incident Report Jira project is accessible to limited employees.  \\n• To report  an incid ent, HR will creat e Jira ticket  and assign it to the concerned person . \\n• Incident Manager  will keep track of  those  ticket s to get the  closure of the incident as \\nsoon as possible.  \\n• Incident Categories  which can be reported in Jira - \\n➢ Security Breach  \\n➢ Infrastruct ure Accident ( E.g.,  Fire, Elect ric issue)  \\n➢ IT Net work Major Issues ( E.g.,  Server down, No Data Backup)  \\n➢ HR: Employee Misconduct   \\n➢ Pand emic ( E.g.,  Covid -19) \\n➢ Office System/Laptop (Damage/Lost)  \\n• Concerned Department head will mention  the corrective action and p reventive \\nmeasures  in Jira which can prevent such incidents to occur  in future.  \\n \\n \\n \\n \\n \\n \\n \\n \\n \\n \\n \\n \\n \\n \\n \\n \\n \\n \\n \\n HR M a n u a l           \\n  \\n        \\n \\nThis document  and its contents are  exclusive property of Priya Sof tweb Solutions P vt Ltd, hence should be treate d accordingly.  \\nPage 26 \\n *************************** ****** **********  \\n \\n17.0 Work f rom Home  Policy :  \\n \\nObjective : We designe d our work from home  policy to make sur e that  working from hom e is \\nbeneficial to our employee s and company.  \\nScope: Work from home po licy applies to all our employees who prefer w orking fr om hom e.  \\nPolicy eleme nts \\nEmployees work from home when they complete  their work at a place located outside of our  \\ncompany’s premis es. They may work from home on one of the follow ing bases : \\n• Permanent : Working from home permanently  \\ni) Eligibility  \\n(a) Anyo ne who th emselv es or their imme diate family members’ (parents, \\nspouse, kids) h ave severe or long -term  medical conditions.   \\n(b) Employees who need to work during  odd working ho urs due to client  \\nrequirement.  \\n(c) Approved b y management  \\n      \\n• Short term : Working from ho me temp oraril y  \\ni. Eligibility  \\na.    Emergencies   \\nb. Bad weather - HR will enable this o ption  in OMS  based on r equirement   \\nc.    Medical  reasons  \\nd. Flexib le hours - Partial hours from of fice & from home  \\n \\n \\n• Hybrid:  Working from office and home  \\ni. Eligib ility \\na.    Employees can take WFH , maxi mum 4 days  in a month.  \\nb. This cannot  be carryforward to next month .  \\n \\n \\n \\n HR M a n u a l           \\n  \\n        \\n \\nThis document  and its contents are  exclusive property of Priya Sof tweb Solutions P vt Ltd, hence should be treate d accordingly.  \\nPage 27 \\n  \\nHow to d etermine whether an employee c an work from ho me \\nWe advise both employees and  managers to cons ider these elements before asking/approving \\nwork from home:  \\n• Are there any cyb ersecu rity and data privacy concerns?  \\n• Will collaboration with the empl oyee’s team beco me difficult?  \\n• Do employees hav e the necessary  equipment or software installe d at home? (e.g. High \\nspeed internet, laptop/desktop etc.)  \\n• What  are the conditions of employee s’ hom e or alternative place of work (noise, \\ninternet connection, cont inuous power sup ply etc)  \\n• Employee’s manager wi ll take final c all for approval for work from home request .  \\nReques ting Work from Home Procedure  \\nWhen employe es plan to work from home, this  proce dure must be followed:  \\n• Employees raise  a request through OMS at least two days i n advance for “Short Terms ” \\nor “Hybrid” .  \\n• If employee wants to apply for “Pe rmanen t” WFH then  employee has to contact HR \\ndepartment  (hr@softwebsolutions.com) . \\n• Employees w ho nee d to work from home for  emergencies , should raise  their request as \\nsoon as possible, so managers can  respond  on such request . \\n• Employees , who are requesting work from home fo r Medical reasons, they mu st submit \\nmedical documents/reports as proof.  \\n• Empl oyee should raise  work from home request in advance or on the same ava iling day \\nas former  dates will not be consider ed. \\n• A complete one count will be taken into ac count from  the hy brid balance if an employe e \\nuses the hybrid model for half a day.  \\n• Manager `s respond  is mandatory on  employee’s  WFH request considering all elements  \\nwe have  mentioned above.  \\n \\n \\n \\n \\n \\n \\n HR M a n u a l           \\n  \\n        \\n \\nThis document  and its contents are  exclusive property of Priya Sof tweb Solutions P vt Ltd, hence should be treate d accordingly.  \\nPage 28 \\n  \\n \\n \\nCancellati on of Approved Work from  Home  \\n• Manager has righ t to revok e WFH a pproval, in case of employ ee`s non-performanc e. \\n• If any e mployee is not reacha ble du ring office hours and such instance are frequent \\nthen WFH wi ll be revoked.  \\n• If any employee is facing  severe in frastructural i ssues like  power cut, internet \\nfluctuatio n or co nstant disturbance then ma nager has right to revoke WFH approval  and \\nfor such  incid ent it may consider as half or full day absent.   \\n• Whenever ne eded , during project deployment  / emergency  and Co mpany events \\nemployee wor king from home has to  attend the offic e. \\n \\nCompensation and benef its \\n• Work from home arrangement s doesn’t affect empl oyees’ employment terms, \\ncompensation and benefits .  \\n \\n \\n \\n \\n \\n \\n \\n \\n \\n \\n \\n \\n \\n \\n \\n \\n \\n \\n*******************************************  \\n HR M a n u a l           \\n  \\n        \\n \\nThis document  and its contents are  exclusive property of Priya Sof tweb Solutions P vt Ltd, hence should be treate d accordingly.  \\nPage 29 \\n 18.0 Separation  Policy  \\n \\n \\nObjective:  To provide  guideline s when an employee resign s, retir es or terminated . \\n \\nApplicabili ty: Applicable to all emplo yees of Priya Softweb.  \\n \\nResignation – If an employ ee resigns , the resignation email has to be sent to head of the \\ndepartment  and HR . HR will accept the resi gnation an d will provide the reliev ing date . \\n \\n• As per the te rms of employm ent, employee has to serve 90 calendar  days  as a notice \\nperiod.  \\n• Incase if an employee  takes leave then their  notice period will be extend ed by that \\nmany  days. Als o during this notice period , if work c ommitments are not  fulfill ed \\nproperly then  leaders  has r ight to extend the notice period. \\n• Full & final settlement of la st month will be done as  per actual attended days (No leave \\nbalance will b e considered).  \\n• Manager an d Team leader will be  responsib le for the knowledge tran sfer of resigned \\nemploye e. \\n• HR departme nt will  conduct ‘E xit forma lities’. HR will generate Jira ticket to  get \\nclear ance from the concerned  Department  Head and also will inform  the Accounts \\ndepartment  (psaccount s@softwebso lutions.com)  thro ugh email . \\n \\nTermination of Service s – Company has all right s to terminate  the services of the employee  \\nwith /without provi ding prior notice in case of consistent non -performance or any discipli nary \\nissues .  \\n \\nIn th e event of gross misconduct  like disclosing any project details, violation of any clause of \\nNon -disclos ure agreement,  misrepresentation ; In case of suc h fraudulent a ct, it is at the \\ndiscretio n of the management to file case agai nst such  fraud ulent empl oyee  in court of law.  \\n \\n \\n \\n \\n \\n   \\n \\n \\n \\n \\n \\n************* ******************************  HR M a n u a l           \\n  \\n        \\n \\nThis document  and its contents are  exclusive property of Priya Sof tweb Solutions P vt Ltd, hence should be treate d accordingly.  \\nPage 30 \\n  \\n \\n19.0 Gratuity Policy  \\n \\nObje ctive:  Gratuit y is a part of salary that is re ceived by an e mployee from his/h er employe r in \\ngratitude for the services off ered by th e em ployee in the company. It’s a benefit plan and is one \\nof the  many retirement benefits offered by the employer to the em ployee upon le avin g his job. \\n \\nApplicability:  Applicable to a ll employees of Pr iya Softwe b. \\n \\nEligibility: One can get the gr atuity ben efit only afte r the completion of continuous 5 year s of \\nservices . \\n \\nGratuity Limit: Maximum 20 Lakhs  \\n \\nProcess: To claim  gratuity benefit, one has to submit an application  form to Accou nts \\ndepartment  (psaccount s@softwebsolutions.com) .   \\n \\n \\n  \\n \\n20.0 Retirement age:  \\n \\n• Employee will get  retired at ag e of 60 y ears. \\n• Applicable to all employees of P riya Softweb.  \\n \\n  \\n \\n \\n \\n \\n \\n \\n \\n \\n \\n \\n \\n \\n \\n \\n************************* ****** ********** ** '"
            ],
            "application/vnd.google.colaboratory.intrinsic+json": {
              "type": "string"
            }
          },
          "metadata": {},
          "execution_count": 50
        }
      ]
    },
    {
      "cell_type": "code",
      "source": [
        "# We need to split the text using Character Text Split such that it sshould not increse token size\n",
        "text_splitter = CharacterTextSplitter(\n",
        "    separator = \"\\n\",\n",
        "    chunk_size = 800,\n",
        "    chunk_overlap  = 200,\n",
        "    length_function = len,\n",
        ")\n",
        "texts = text_splitter.split_text(raw_text)"
      ],
      "metadata": {
        "id": "VP6ap_PSRt7s"
      },
      "execution_count": 51,
      "outputs": []
    },
    {
      "cell_type": "code",
      "source": [
        "len(texts)"
      ],
      "metadata": {
        "colab": {
          "base_uri": "https://localhost:8080/"
        },
        "id": "i9GLXwH1SVOe",
        "outputId": "2eb3f34f-9eb7-4a1b-fd6d-8065b69838c4"
      },
      "execution_count": 52,
      "outputs": [
        {
          "output_type": "execute_result",
          "data": {
            "text/plain": [
              "73"
            ]
          },
          "metadata": {},
          "execution_count": 52
        }
      ]
    },
    {
      "cell_type": "code",
      "source": [
        "# Download embeddings from OpenAI\n",
        "embeddings = OpenAIEmbeddings()"
      ],
      "metadata": {
        "id": "wqy4vJhrSXUT"
      },
      "execution_count": 53,
      "outputs": []
    },
    {
      "cell_type": "code",
      "source": [
        "document_search = FAISS.from_texts(texts, embeddings)"
      ],
      "metadata": {
        "id": "3igYiWjISjvS"
      },
      "execution_count": 54,
      "outputs": []
    },
    {
      "cell_type": "code",
      "source": [
        "document_search"
      ],
      "metadata": {
        "colab": {
          "base_uri": "https://localhost:8080/"
        },
        "id": "6bJpE1qlSlNb",
        "outputId": "4a5493a8-edea-4939-a3ff-e645eb819fff"
      },
      "execution_count": 55,
      "outputs": [
        {
          "output_type": "execute_result",
          "data": {
            "text/plain": [
              "<langchain_community.vectorstores.faiss.FAISS at 0x7d0a764ac640>"
            ]
          },
          "metadata": {},
          "execution_count": 55
        }
      ]
    },
    {
      "cell_type": "code",
      "source": [
        "from langchain.chains.question_answering import load_qa_chain\n",
        "from langchain.llms import OpenAI"
      ],
      "metadata": {
        "id": "Po-ip1fPSonv"
      },
      "execution_count": 56,
      "outputs": []
    },
    {
      "cell_type": "code",
      "source": [
        "chain = load_qa_chain(OpenAI(), chain_type=\"stuff\")"
      ],
      "metadata": {
        "id": "iYl2PzKSSqg0"
      },
      "execution_count": 57,
      "outputs": []
    },
    {
      "cell_type": "code",
      "source": [
        "query = input(\"Enter your query:-\")\n",
        "docs = document_search.similarity_search(query)\n",
        "chain.run(input_documents=docs, question=query)"
      ],
      "metadata": {
        "colab": {
          "base_uri": "https://localhost:8080/",
          "height": 70
        },
        "id": "GQafhpOz4IsV",
        "outputId": "de48ced2-2394-4386-99eb-5ab23f8a8216"
      },
      "execution_count": 58,
      "outputs": [
        {
          "name": "stdout",
          "output_type": "stream",
          "text": [
            "Enter your query:-Who is senior HR\n"
          ]
        },
        {
          "output_type": "execute_result",
          "data": {
            "text/plain": [
              "' The document does not specify who the senior HR is. It only mentions Nancy Bhatt as the HR Manager and Khushali Shah as a manager in the HR department. There may be other senior HR members who are not listed in the document.'"
            ],
            "application/vnd.google.colaboratory.intrinsic+json": {
              "type": "string"
            }
          },
          "metadata": {},
          "execution_count": 58
        }
      ]
    }
  ]
}